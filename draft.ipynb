{
 "cells": [
  {
   "cell_type": "code",
   "execution_count": 18,
   "id": "initial_id",
   "metadata": {
    "collapsed": true,
    "ExecuteTime": {
     "end_time": "2023-12-04T19:42:39.013355100Z",
     "start_time": "2023-12-04T19:42:39.000386200Z"
    }
   },
   "outputs": [],
   "source": [
    "import pandas as pd\n",
    "import concurrent.futures\n",
    "import requests\n",
    "import yfinance as yf\n",
    "import numpy as np"
   ]
  },
  {
   "cell_type": "code",
   "execution_count": 38,
   "outputs": [],
   "source": [
    "from concurrent.futures import ThreadPoolExecutor\n",
    "from tqdm import tqdm\n",
    "from sklearn.preprocessing import StandardScaler\n",
    "from sklearn.cluster import KMeans"
   ],
   "metadata": {
    "collapsed": false,
    "ExecuteTime": {
     "end_time": "2023-12-04T20:09:35.245399200Z",
     "start_time": "2023-12-04T20:09:33.529226600Z"
    }
   },
   "id": "7f4f3061bdcb68ab"
  },
  {
   "cell_type": "code",
   "execution_count": 7,
   "outputs": [
    {
     "data": {
      "text/plain": "['MMM',\n 'AOS',\n 'ABT',\n 'ABBV',\n 'ACN',\n 'ADM',\n 'ADBE',\n 'ADP',\n 'AES',\n 'AFL',\n 'A',\n 'ABNB',\n 'APD',\n 'AKAM',\n 'ALK',\n 'ALB',\n 'ARE',\n 'ALGN',\n 'ALLE',\n 'LNT',\n 'ALL',\n 'GOOGL',\n 'GOOG',\n 'MO',\n 'AMZN',\n 'AMCR',\n 'AMD',\n 'AEE',\n 'AAL',\n 'AEP',\n 'AXP',\n 'AIG',\n 'AMT',\n 'AWK',\n 'AMP',\n 'AME',\n 'AMGN',\n 'APH',\n 'ADI',\n 'ANSS',\n 'AON',\n 'APA',\n 'AAPL',\n 'AMAT',\n 'APTV',\n 'ACGL',\n 'ANET',\n 'AJG',\n 'AIZ',\n 'T',\n 'ATO',\n 'ADSK',\n 'AZO',\n 'AVB',\n 'AVY',\n 'AXON',\n 'BKR',\n 'BALL',\n 'BAC',\n 'BBWI',\n 'BAX',\n 'BDX',\n 'WRB',\n 'BRK.B',\n 'BBY',\n 'BIO',\n 'TECH',\n 'BIIB',\n 'BLK',\n 'BX',\n 'BK',\n 'BA',\n 'BKNG',\n 'BWA',\n 'BXP',\n 'BSX',\n 'BMY',\n 'AVGO',\n 'BR',\n 'BRO',\n 'BF.B',\n 'BG',\n 'CHRW',\n 'CDNS',\n 'CZR',\n 'CPT',\n 'CPB',\n 'COF',\n 'CAH',\n 'KMX',\n 'CCL',\n 'CARR',\n 'CTLT',\n 'CAT',\n 'CBOE',\n 'CBRE',\n 'CDW',\n 'CE',\n 'COR',\n 'CNC',\n 'CNP',\n 'CDAY',\n 'CF',\n 'CRL',\n 'SCHW',\n 'CHTR',\n 'CVX',\n 'CMG',\n 'CB',\n 'CHD',\n 'CI',\n 'CINF',\n 'CTAS',\n 'CSCO',\n 'C',\n 'CFG',\n 'CLX',\n 'CME',\n 'CMS',\n 'KO',\n 'CTSH',\n 'CL',\n 'CMCSA',\n 'CMA',\n 'CAG',\n 'COP',\n 'ED',\n 'STZ',\n 'CEG',\n 'COO',\n 'CPRT',\n 'GLW',\n 'CTVA',\n 'CSGP',\n 'COST',\n 'CTRA',\n 'CCI',\n 'CSX',\n 'CMI',\n 'CVS',\n 'DHI',\n 'DHR',\n 'DRI',\n 'DVA',\n 'DE',\n 'DAL',\n 'XRAY',\n 'DVN',\n 'DXCM',\n 'FANG',\n 'DLR',\n 'DFS',\n 'DIS',\n 'DG',\n 'DLTR',\n 'D',\n 'DPZ',\n 'DOV',\n 'DOW',\n 'DTE',\n 'DUK',\n 'DD',\n 'EMN',\n 'ETN',\n 'EBAY',\n 'ECL',\n 'EIX',\n 'EW',\n 'EA',\n 'ELV',\n 'LLY',\n 'EMR',\n 'ENPH',\n 'ETR',\n 'EOG',\n 'EPAM',\n 'EQT',\n 'EFX',\n 'EQIX',\n 'EQR',\n 'ESS',\n 'EL',\n 'ETSY',\n 'EG',\n 'EVRG',\n 'ES',\n 'EXC',\n 'EXPE',\n 'EXPD',\n 'EXR',\n 'XOM',\n 'FFIV',\n 'FDS',\n 'FICO',\n 'FAST',\n 'FRT',\n 'FDX',\n 'FITB',\n 'FSLR',\n 'FE',\n 'FIS',\n 'FI',\n 'FLT',\n 'FMC',\n 'F',\n 'FTNT',\n 'FTV',\n 'FOXA',\n 'FOX',\n 'BEN',\n 'FCX',\n 'GRMN',\n 'IT',\n 'GEHC',\n 'GEN',\n 'GNRC',\n 'GD',\n 'GE',\n 'GIS',\n 'GM',\n 'GPC',\n 'GILD',\n 'GL',\n 'GPN',\n 'GS',\n 'HAL',\n 'HIG',\n 'HAS',\n 'HCA',\n 'PEAK',\n 'HSIC',\n 'HSY',\n 'HES',\n 'HPE',\n 'HLT',\n 'HOLX',\n 'HD',\n 'HON',\n 'HRL',\n 'HST',\n 'HWM',\n 'HPQ',\n 'HUBB',\n 'HUM',\n 'HBAN',\n 'HII',\n 'IBM',\n 'IEX',\n 'IDXX',\n 'ITW',\n 'ILMN',\n 'INCY',\n 'IR',\n 'PODD',\n 'INTC',\n 'ICE',\n 'IFF',\n 'IP',\n 'IPG',\n 'INTU',\n 'ISRG',\n 'IVZ',\n 'INVH',\n 'IQV',\n 'IRM',\n 'JBHT',\n 'JKHY',\n 'J',\n 'JNJ',\n 'JCI',\n 'JPM',\n 'JNPR',\n 'K',\n 'KVUE',\n 'KDP',\n 'KEY',\n 'KEYS',\n 'KMB',\n 'KIM',\n 'KMI',\n 'KLAC',\n 'KHC',\n 'KR',\n 'LHX',\n 'LH',\n 'LRCX',\n 'LW',\n 'LVS',\n 'LDOS',\n 'LEN',\n 'LIN',\n 'LYV',\n 'LKQ',\n 'LMT',\n 'L',\n 'LOW',\n 'LULU',\n 'LYB',\n 'MTB',\n 'MRO',\n 'MPC',\n 'MKTX',\n 'MAR',\n 'MMC',\n 'MLM',\n 'MAS',\n 'MA',\n 'MTCH',\n 'MKC',\n 'MCD',\n 'MCK',\n 'MDT',\n 'MRK',\n 'META',\n 'MET',\n 'MTD',\n 'MGM',\n 'MCHP',\n 'MU',\n 'MSFT',\n 'MAA',\n 'MRNA',\n 'MHK',\n 'MOH',\n 'TAP',\n 'MDLZ',\n 'MPWR',\n 'MNST',\n 'MCO',\n 'MS',\n 'MOS',\n 'MSI',\n 'MSCI',\n 'NDAQ',\n 'NTAP',\n 'NFLX',\n 'NEM',\n 'NWSA',\n 'NWS',\n 'NEE',\n 'NKE',\n 'NI',\n 'NDSN',\n 'NSC',\n 'NTRS',\n 'NOC',\n 'NCLH',\n 'NRG',\n 'NUE',\n 'NVDA',\n 'NVR',\n 'NXPI',\n 'ORLY',\n 'OXY',\n 'ODFL',\n 'OMC',\n 'ON',\n 'OKE',\n 'ORCL',\n 'OTIS',\n 'PCAR',\n 'PKG',\n 'PANW',\n 'PARA',\n 'PH',\n 'PAYX',\n 'PAYC',\n 'PYPL',\n 'PNR',\n 'PEP',\n 'PFE',\n 'PCG',\n 'PM',\n 'PSX',\n 'PNW',\n 'PXD',\n 'PNC',\n 'POOL',\n 'PPG',\n 'PPL',\n 'PFG',\n 'PG',\n 'PGR',\n 'PLD',\n 'PRU',\n 'PEG',\n 'PTC',\n 'PSA',\n 'PHM',\n 'QRVO',\n 'PWR',\n 'QCOM',\n 'DGX',\n 'RL',\n 'RJF',\n 'RTX',\n 'O',\n 'REG',\n 'REGN',\n 'RF',\n 'RSG',\n 'RMD',\n 'RVTY',\n 'RHI',\n 'ROK',\n 'ROL',\n 'ROP',\n 'ROST',\n 'RCL',\n 'SPGI',\n 'CRM',\n 'SBAC',\n 'SLB',\n 'STX',\n 'SEE',\n 'SRE',\n 'NOW',\n 'SHW',\n 'SPG',\n 'SWKS',\n 'SJM',\n 'SNA',\n 'SEDG',\n 'SO',\n 'LUV',\n 'SWK',\n 'SBUX',\n 'STT',\n 'STLD',\n 'STE',\n 'SYK',\n 'SYF',\n 'SNPS',\n 'SYY',\n 'TMUS',\n 'TROW',\n 'TTWO',\n 'TPR',\n 'TRGP',\n 'TGT',\n 'TEL',\n 'TDY',\n 'TFX',\n 'TER',\n 'TSLA',\n 'TXN',\n 'TXT',\n 'TMO',\n 'TJX',\n 'TSCO',\n 'TT',\n 'TDG',\n 'TRV',\n 'TRMB',\n 'TFC',\n 'TYL',\n 'TSN',\n 'USB',\n 'UDR',\n 'ULTA',\n 'UNP',\n 'UAL',\n 'UPS',\n 'URI',\n 'UNH',\n 'UHS',\n 'VLO',\n 'VTR',\n 'VLTO',\n 'VRSN',\n 'VRSK',\n 'VZ',\n 'VRTX',\n 'VFC',\n 'VTRS',\n 'VICI',\n 'V',\n 'VMC',\n 'WAB',\n 'WBA',\n 'WMT',\n 'WBD',\n 'WM',\n 'WAT',\n 'WEC',\n 'WFC',\n 'WELL',\n 'WST',\n 'WDC',\n 'WRK',\n 'WY',\n 'WHR',\n 'WMB',\n 'WTW',\n 'GWW',\n 'WYNN',\n 'XEL',\n 'XYL',\n 'YUM',\n 'ZBRA',\n 'ZBH',\n 'ZION',\n 'ZTS']"
     },
     "execution_count": 7,
     "metadata": {},
     "output_type": "execute_result"
    }
   ],
   "source": [
    "def get_sp500_tickers():\n",
    "    table = pd.read_html('https://en.wikipedia.org/wiki/List_of_S%26P_500_companies')\n",
    "    sp500 = table[0]\n",
    "    tickers = sp500['Symbol'].tolist()\n",
    "    return tickers\n",
    "\n",
    "sp500_tickers = get_sp500_tickers()"
   ],
   "metadata": {
    "collapsed": false,
    "ExecuteTime": {
     "end_time": "2023-12-04T18:59:54.518833900Z",
     "start_time": "2023-12-04T18:59:53.611652300Z"
    }
   },
   "id": "53c9ddd64dfdc4db"
  },
  {
   "cell_type": "code",
   "execution_count": 30,
   "outputs": [
    {
     "name": "stderr",
     "output_type": "stream",
     "text": [
      "Downloading:  14%|█▍        | 70/503 [00:04<00:30, 14.02it/s]BRK.B: No data found, symbol may be delisted\n",
      "C:\\Users\\serga\\AppData\\Local\\Temp\\ipykernel_24656\\2002511446.py:21: FutureWarning: The behavior of array concatenation with empty entries is deprecated. In a future version, this will no longer exclude empty items when determining the result dtype. To retain the old behavior, exclude the empty entries before the concat operation.\n",
      "  all_data = pd.concat([all_data, data], axis=0)\n",
      "BF.B: No price data found, symbol may be delisted (period=5y)\n",
      "C:\\Users\\serga\\AppData\\Local\\Temp\\ipykernel_24656\\2002511446.py:21: FutureWarning: The behavior of array concatenation with empty entries is deprecated. In a future version, this will no longer exclude empty items when determining the result dtype. To retain the old behavior, exclude the empty entries before the concat operation.\n",
      "  all_data = pd.concat([all_data, data], axis=0)\n",
      "Downloading: 100%|██████████| 503/503 [00:29<00:00, 17.09it/s]\n"
     ]
    }
   ],
   "source": [
    "all_data = pd.DataFrame()\n",
    "ticker_symbols = sp500_tickers\n",
    "\n",
    "def download_stock_data(symbol):\n",
    "    try:\n",
    "        data = yf.Ticker(symbol).history(period=\"5y\")\n",
    "        data['Ticker'] = symbol  # Добавьте столбец с символом акции\n",
    "        return data\n",
    "    except Exception as e:\n",
    "        print(f\"Failed download: [{symbol}]: {e}\")\n",
    "        return None\n",
    "\n",
    "with concurrent.futures.ThreadPoolExecutor() as executor:\n",
    "    futures = [executor.submit(download_stock_data, symbol) for symbol in ticker_symbols]\n",
    "    for future in tqdm(concurrent.futures.as_completed(futures), total=len(ticker_symbols), desc=\"Downloading\"):\n",
    "        data = future.result()\n",
    "        if data is not None:\n",
    "            all_data = pd.concat([all_data, data], axis=0)"
   ],
   "metadata": {
    "collapsed": false,
    "ExecuteTime": {
     "end_time": "2023-12-04T19:53:46.081931900Z",
     "start_time": "2023-12-04T19:53:16.610225800Z"
    }
   },
   "id": "e5440010812cb62d"
  },
  {
   "cell_type": "code",
   "execution_count": 32,
   "outputs": [],
   "source": [
    "all_data.to_csv(\"yfinance_data.csv\")"
   ],
   "metadata": {
    "collapsed": false,
    "ExecuteTime": {
     "end_time": "2023-12-04T19:54:19.564569100Z",
     "start_time": "2023-12-04T19:54:10.493031900Z"
    }
   },
   "id": "1835ef1a47986074"
  },
  {
   "cell_type": "code",
   "execution_count": 33,
   "outputs": [
    {
     "data": {
      "text/plain": "                                 Open        High         Low       Close  \\\nDate                                                                        \n2018-12-04 00:00:00-05:00  159.400442  161.229428  157.130944  157.245865   \n2018-12-06 00:00:00-05:00  153.894273  154.880589  149.996875  152.496185   \n2018-12-07 00:00:00-05:00  152.141883  153.961298  149.613846  150.772522   \n2018-12-10 00:00:00-05:00  150.360787  151.921649  147.861477  151.031097   \n2018-12-11 00:00:00-05:00  153.214387  154.009188  150.734232  151.586487   \n\n                              Volume  Dividends  Stock Splits Ticker  \\\nDate                                                                   \n2018-12-04 00:00:00-05:00  3108900.0        0.0           0.0    ACN   \n2018-12-06 00:00:00-05:00  6012000.0        0.0           0.0    ACN   \n2018-12-07 00:00:00-05:00  3090000.0        0.0           0.0    ACN   \n2018-12-10 00:00:00-05:00  2280800.0        0.0           0.0    ACN   \n2018-12-11 00:00:00-05:00  1786300.0        0.0           0.0    ACN   \n\n                           Adj Close  \nDate                                  \n2018-12-04 00:00:00-05:00        NaN  \n2018-12-06 00:00:00-05:00        NaN  \n2018-12-07 00:00:00-05:00        NaN  \n2018-12-10 00:00:00-05:00        NaN  \n2018-12-11 00:00:00-05:00        NaN  ",
      "text/html": "<div>\n<style scoped>\n    .dataframe tbody tr th:only-of-type {\n        vertical-align: middle;\n    }\n\n    .dataframe tbody tr th {\n        vertical-align: top;\n    }\n\n    .dataframe thead th {\n        text-align: right;\n    }\n</style>\n<table border=\"1\" class=\"dataframe\">\n  <thead>\n    <tr style=\"text-align: right;\">\n      <th></th>\n      <th>Open</th>\n      <th>High</th>\n      <th>Low</th>\n      <th>Close</th>\n      <th>Volume</th>\n      <th>Dividends</th>\n      <th>Stock Splits</th>\n      <th>Ticker</th>\n      <th>Adj Close</th>\n    </tr>\n    <tr>\n      <th>Date</th>\n      <th></th>\n      <th></th>\n      <th></th>\n      <th></th>\n      <th></th>\n      <th></th>\n      <th></th>\n      <th></th>\n      <th></th>\n    </tr>\n  </thead>\n  <tbody>\n    <tr>\n      <th>2018-12-04 00:00:00-05:00</th>\n      <td>159.400442</td>\n      <td>161.229428</td>\n      <td>157.130944</td>\n      <td>157.245865</td>\n      <td>3108900.0</td>\n      <td>0.0</td>\n      <td>0.0</td>\n      <td>ACN</td>\n      <td>NaN</td>\n    </tr>\n    <tr>\n      <th>2018-12-06 00:00:00-05:00</th>\n      <td>153.894273</td>\n      <td>154.880589</td>\n      <td>149.996875</td>\n      <td>152.496185</td>\n      <td>6012000.0</td>\n      <td>0.0</td>\n      <td>0.0</td>\n      <td>ACN</td>\n      <td>NaN</td>\n    </tr>\n    <tr>\n      <th>2018-12-07 00:00:00-05:00</th>\n      <td>152.141883</td>\n      <td>153.961298</td>\n      <td>149.613846</td>\n      <td>150.772522</td>\n      <td>3090000.0</td>\n      <td>0.0</td>\n      <td>0.0</td>\n      <td>ACN</td>\n      <td>NaN</td>\n    </tr>\n    <tr>\n      <th>2018-12-10 00:00:00-05:00</th>\n      <td>150.360787</td>\n      <td>151.921649</td>\n      <td>147.861477</td>\n      <td>151.031097</td>\n      <td>2280800.0</td>\n      <td>0.0</td>\n      <td>0.0</td>\n      <td>ACN</td>\n      <td>NaN</td>\n    </tr>\n    <tr>\n      <th>2018-12-11 00:00:00-05:00</th>\n      <td>153.214387</td>\n      <td>154.009188</td>\n      <td>150.734232</td>\n      <td>151.586487</td>\n      <td>1786300.0</td>\n      <td>0.0</td>\n      <td>0.0</td>\n      <td>ACN</td>\n      <td>NaN</td>\n    </tr>\n  </tbody>\n</table>\n</div>"
     },
     "execution_count": 33,
     "metadata": {},
     "output_type": "execute_result"
    }
   ],
   "source": [
    "all_data.head()"
   ],
   "metadata": {
    "collapsed": false,
    "ExecuteTime": {
     "end_time": "2023-12-04T19:55:33.520971600Z",
     "start_time": "2023-12-04T19:55:33.503389100Z"
    }
   },
   "id": "379385cf3b423c78"
  },
  {
   "cell_type": "code",
   "execution_count": 36,
   "outputs": [],
   "source": [
    "all_data.columns = all_data.columns.str.lower()\n",
    "all_data['diff'] = all_data['close'] - all_data['open']"
   ],
   "metadata": {
    "collapsed": false,
    "ExecuteTime": {
     "end_time": "2023-12-04T20:07:44.406450700Z",
     "start_time": "2023-12-04T20:07:44.386697300Z"
    }
   },
   "id": "f67a453cb4f04d89"
  }
 ],
 "metadata": {
  "kernelspec": {
   "display_name": "Python 3",
   "language": "python",
   "name": "python3"
  },
  "language_info": {
   "codemirror_mode": {
    "name": "ipython",
    "version": 2
   },
   "file_extension": ".py",
   "mimetype": "text/x-python",
   "name": "python",
   "nbconvert_exporter": "python",
   "pygments_lexer": "ipython2",
   "version": "2.7.6"
  }
 },
 "nbformat": 4,
 "nbformat_minor": 5
}
